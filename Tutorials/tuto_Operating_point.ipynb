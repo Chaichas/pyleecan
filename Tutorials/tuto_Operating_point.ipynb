{
 "cells": [
  {
   "cell_type": "markdown",
   "metadata": {},
   "source": [
    "# How to set the Operating Point\n",
    "This tutorial explains how to use the object InputCurrent and VarLoadCurrent to run a magnetic simulation on several operating points by setting Id/Iq or I0/Phi0.\n",
    "\n",
    "The reference used to validate this tutorial is: Z. Yang, M. Krishnamurthy and I. P. Brown, \"Electromagnetic and vibrational characteristic of IPM over full torque-speed range,\" 2013 International Electric Machines & Drives Conference, Chicago, IL, 2013, pp. 295-302, doi: 10.1109/IEMDC.2013.6556267.\n",
    "\n",
    "## Machine and Simulation definition\n",
    "This tutorial use the machine IPMSM_A (Prius 2004) defined in the \"[How to define a machine](https://pyleecan.org/tuto_Machine.html)\" tutorial. The magnetic module is the same as the symmetrical one from the tutorial \"[How to define a simulation to call FEMM](https://pyleecan.org/tuto_Simulation_FEMM.html)\"."
   ]
  },
  {
   "cell_type": "code",
   "execution_count": null,
   "metadata": {
    "tags": []
   },
   "outputs": [],
   "source": [
    "%matplotlib notebook\n",
    "\n",
    "# Load the machine\n",
    "from pyleecan.Functions.load import load\n",
    "from pyleecan.definitions import DATA_DIR\n",
    "from os.path import join\n",
    "\n",
    "IPMSM_A = load(join(DATA_DIR, \"Machine\", \"IPMSM_A.json\"))\n",
    "IPMSM_A.plot()"
   ]
  },
  {
   "cell_type": "code",
   "execution_count": null,
   "metadata": {
    "tags": []
   },
   "outputs": [],
   "source": [
    "from pyleecan.Classes.Simu1 import Simu1\n",
    "from pyleecan.Classes.MagFEMM import MagFEMM\n",
    "# Initialization of the Simulation\n",
    "simu = Simu1(name=\"tuto_Id_Iq\", machine=IPMSM_A)\n",
    "\n",
    "# Definition of the magnetic simulation (FEMM with symmetry and sliding band)\n",
    "simu.mag = MagFEMM(\n",
    "    type_BH_stator=0,\n",
    "    type_BH_rotor=0,\n",
    "    is_periodicity_a=True,\n",
    "    Kgeo_fineness=1,\n",
    ")\n",
    "# Run only Magnetic module\n",
    "simu.elec = None\n",
    "simu.force = None\n",
    "simu.struct = None"
   ]
  },
  {
   "cell_type": "markdown",
   "metadata": {},
   "source": [
    "## Defining an Operating point with Id/Iq\n",
    "The starting point of the simulation is defined with InputCurrent. This object will create an \"OutElec\" object that correspond to the output of the Electrical module and the input of the Magnetic module. InputCurrent enables to define in several ways the starting point. The tutorial \"[How to define a simulation to call FEMM](https://pyleecan.org/tuto_Simulation_FEMM.html)\" introduces how to enforce any current by directly setting Is. When the current is sinusoidal, it can be defined with Id_ref and Iq_ref as follow:"
   ]
  },
  {
   "cell_type": "code",
   "execution_count": null,
   "metadata": {},
   "outputs": [],
   "source": [
    "from pyleecan.Classes.InputCurrent import InputCurrent\n",
    "from numpy import sqrt, exp,pi\n",
    "\n",
    "# Definition of a sinusoidal current\n",
    "simu.input = InputCurrent()\n",
    "I0_rms = 250/sqrt(2) # Maximum current [Arms]\n",
    "Phi0 = 140*pi/180  # Maximum Torque Per Amp\n",
    "Id_ref = (I0_rms*exp(1j*Phi0)).real\n",
    "Iq_ref = (I0_rms*exp(1j*Phi0)).imag\n",
    "simu.input.Id_ref = Id_ref # [Arms] \n",
    "simu.input.Iq_ref = Iq_ref # [Arms] \n",
    "\n",
    "(Id_ref,Iq_ref)"
   ]
  },
  {
   "cell_type": "markdown",
   "metadata": {},
   "source": [
    "The discretization of the current and for the magnetic computation can be set with time and angle (as in \"[How to define a simulation to call FEMM](https://pyleecan.org/tuto_Simulation_FEMM.html)\" tutorial) or by setting the following parameters:"
   ]
  },
  {
   "cell_type": "code",
   "execution_count": null,
   "metadata": {},
   "outputs": [],
   "source": [
    "simu.input.Nt_tot = 10 # Number of time step\n",
    "simu.input.Na_tot = 2048 # Spatial discretization\n",
    "simu.input.N0 = 2000 # Rotor speed [rpm]"
   ]
  },
  {
   "cell_type": "markdown",
   "metadata": {},
   "source": [
    "When Nt_tot is defined, the time vector is automatically set to:\n",
    "\n",
    "    linspace(0, 60 / N0 * Nrev, Nt_tot)\n",
    "\n",
    "With Nrev the number of revolution of the rotor (1 by default)"
   ]
  },
  {
   "cell_type": "markdown",
   "metadata": {},
   "source": [
    "When Na_tot is defined, the angle vector is automatically set to:\n",
    "\n",
    "    linspace(0, 2*pi, Na_tot)\n",
    "\n",
    "The input is now fully defined, the simulation can now be run:"
   ]
  },
  {
   "cell_type": "code",
   "execution_count": null,
   "metadata": {
    "tags": []
   },
   "outputs": [],
   "source": [
    "out = simu.run()\n",
    "# Plot the flux\n",
    "out.plot_2D_Data(\"mag.B\", \"angle\")\n",
    "# Plot the current\n",
    "out.plot_2D_Data(\"elec.Is\", \"time\", \"phase\")"
   ]
  },
  {
   "cell_type": "markdown",
   "metadata": {},
   "source": [
    "The Operating Point can also be defined with I0 / Phi0 with:"
   ]
  },
  {
   "cell_type": "code",
   "execution_count": null,
   "metadata": {
    "tags": []
   },
   "outputs": [],
   "source": [
    "from numpy import pi\n",
    "\n",
    "simu.input.set_Id_Iq(I0=I0_rms, Phi0=Phi0)\n",
    "print(\"Id: \"+str(simu.input.Id_ref))\n",
    "print(\"Iq: \"+str(simu.input.Iq_ref))"
   ]
  },
  {
   "cell_type": "markdown",
   "metadata": {},
   "source": [
    "## Iterating on several Operating Point\n",
    "Each pyleecan simulation is assumed to be quasi-static and run on a single operating point (fixed speed). To run a simulation on several operating point two steps are needed: First define a simulation that run correctly on a single operating point (like the one defined above), then define a VarLoadCurrent object. \n",
    "\n",
    "The VarLoadCurrent object is defined with a matrix with each line corresponding to an operating point and the column are either (N0, Id, Iq) if type_OP_matrix==1 or (N0, I0, Phi0) if type_OP_matrix==0. The following VarLoadCurrent object will run 36 time the previous simulation by changing the value of Phi0. \n",
    "\n",
    "A fourth column can be added by setting is_torque=True. It enables to define the reference torque for the Operating Point. The reference is stored in output.elec.Tem_av_ref, the real computed torque is stored in output.mag.Tem_av\n",
    "\n"
   ]
  },
  {
   "cell_type": "markdown",
   "metadata": {},
   "source": [
    "Reference torque and current angle vector are:"
   ]
  },
  {
   "cell_type": "code",
   "execution_count": null,
   "metadata": {},
   "outputs": [],
   "source": [
    "from numpy import linspace, array, pi\n",
    "Tem_av_ref = array([79, 125, 160, 192, 237, 281, 319, 343, 353, 332, 266, 164, 22]) # Yang et al, 2013\n",
    "Phi0_ref = linspace(60 * pi / 180, 180 * pi / 180, Tem_av_ref.size)"
   ]
  },
  {
   "cell_type": "code",
   "execution_count": null,
   "metadata": {
    "tags": []
   },
   "outputs": [],
   "source": [
    "from pyleecan.Classes.VarLoadCurrent import VarLoadCurrent\n",
    "from numpy import zeros, ones, linspace, array, sqrt, arange\n",
    "\n",
    "varload = VarLoadCurrent(is_torque=True, ref_simu_index=0)\n",
    "varload.type_OP_matrix = 0 # Matrix N0, I0, Phi0\n",
    "\n",
    "# Choose which operating points to run\n",
    "step = 2 # step=1 to do all OP\n",
    "         # step=2 to do 1 OP out of 2 (fastest)    \n",
    "I_simu = arange(0,Tem_av_ref.size, step) \n",
    "N_simu = I_simu.size\n",
    "\n",
    "# Creating the Operating point matrix\n",
    "OP_matrix = zeros((N_simu,4))\n",
    "\n",
    "# Set N0 = 2000 [rpm] for all simulation\n",
    "OP_matrix[:,0] = 2000 * ones((N_simu))\n",
    "\n",
    "# Set I0 = 250 / sqrt(2) [A] (RMS) for all simulation\n",
    "OP_matrix[:,1] = I0_rms * ones((N_simu)) \n",
    "\n",
    "# Set Phi0 from 60° to 180°\n",
    "OP_matrix[:,2] = Phi0_ref[I_simu]\n",
    "\n",
    "# Set reference torque from Yang et al, 2013\n",
    "OP_matrix[:,3] = Tem_av_ref[I_simu]\n",
    "\n",
    "varload.OP_matrix = OP_matrix\n",
    "print(OP_matrix)"
   ]
  },
  {
   "cell_type": "markdown",
   "metadata": {},
   "source": [
    "The original simulation will be duplicated N_simu times with the value of InputCurrent updated according to the matrix."
   ]
  },
  {
   "cell_type": "code",
   "execution_count": null,
   "metadata": {
    "tags": []
   },
   "outputs": [],
   "source": [
    "simu2 = simu.copy()\n",
    "simu2.var_simu = varload.copy()\n",
    "simu2.input.Nt_tot = 5\n",
    "Xout = simu2.run()"
   ]
  },
  {
   "cell_type": "markdown",
   "metadata": {},
   "source": [
    "Pyleecan will automatically extract some values from each simulation. These values are all gathered in the xoutput_dict:"
   ]
  },
  {
   "cell_type": "code",
   "execution_count": null,
   "metadata": {
    "tags": []
   },
   "outputs": [],
   "source": [
    "print(\"Values available in XOutput:\")\n",
    "print(Xout.xoutput_dict.keys())\n",
    "\n",
    "print(\"\\nI0 for each simulation:\")\n",
    "print(Xout[\"I0\"].result)\n",
    "print(\"\\nPhi0 for each simulation:\")\n",
    "print(Xout[\"Phi0\"].result)"
   ]
  },
  {
   "cell_type": "markdown",
   "metadata": {
    "tags": []
   },
   "source": [
    "Any parameter in the XOutput can be plot as a function of any other"
   ]
  },
  {
   "cell_type": "code",
   "execution_count": null,
   "metadata": {},
   "outputs": [],
   "source": [
    "fig = Xout.plot_multi(\"Phi0\", \"Tem_av\")\n",
    "fig = Xout.plot_multi(\"Id\", \"Iq\")"
   ]
  },
  {
   "cell_type": "markdown",
   "metadata": {},
   "source": [
    "Finally, the computed average torque can be compared to the one in the publication from Yang et al (data has been extracted from their graph using [Engauge Digitizer](http://markummitchell.github.io/engauge-digitizer/). Note that the generic plot function `plot_2D` has been used here."
   ]
  },
  {
   "cell_type": "code",
   "execution_count": null,
   "metadata": {},
   "outputs": [],
   "source": [
    "from pyleecan.Functions.Plot.plot_2D import plot_2D\n",
    "from pyleecan.definitions import config_dict\n",
    "from numpy import array\n",
    "\n",
    "curve_colors = config_dict[\"PLOT\"][\"COLOR_DICT\"][\"CURVE_COLORS\"]\n",
    "\n",
    "plot_2D(\n",
    "    array([x*180/pi for x in Xout.xoutput_dict[\"Phi0\"].result]),\n",
    "    [Xout.xoutput_dict[\"Tem_av\"].result, Xout.xoutput_dict[\"Tem_av_ref\"].result],\n",
    "    color_list=curve_colors,\n",
    "    legend_list=[\"Pyleecan\", \"Yang et al, 2013\"],\n",
    "    xlabel=\"Current angle [°]\",\n",
    "    ylabel=\"Electrical torque [N.m]\",\n",
    "    title=\"Electrical torque vs current angle\"\n",
    ")"
   ]
  },
  {
   "cell_type": "code",
   "execution_count": null,
   "metadata": {},
   "outputs": [],
   "source": []
  }
 ],
 "metadata": {
  "kernelspec": {
   "display_name": "Python 3",
   "language": "python",
   "name": "python3"
  },
  "language_info": {
   "codemirror_mode": {
    "name": "ipython",
    "version": 3
   },
   "file_extension": ".py",
   "mimetype": "text/x-python",
   "name": "python",
   "nbconvert_exporter": "python",
   "pygments_lexer": "ipython3",
   "version": "3.8.3"
  }
 },
 "nbformat": 4,
 "nbformat_minor": 2
}
